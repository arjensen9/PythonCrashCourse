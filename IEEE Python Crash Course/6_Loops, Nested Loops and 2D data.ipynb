{
 "cells": [
  {
   "cell_type": "markdown",
   "id": "bd24dd6c",
   "metadata": {},
   "source": [
    "# Loops"
   ]
  },
  {
   "cell_type": "markdown",
   "id": "8b4efec0",
   "metadata": {},
   "source": [
    "## While loops"
   ]
  },
  {
   "cell_type": "code",
   "execution_count": null,
   "id": "2bc468d1",
   "metadata": {},
   "outputs": [],
   "source": [
    "#while loops repeat the code within them until a condition is false\n",
    "#variables changed within the loop retain their value for the next iteration\n",
    "#while condition = false:\n",
    "#    do something\n",
    "x = 1\n",
    "while x <= 10:\n",
    "    print(x, end = ' ')\n",
    "    x += 1"
   ]
  },
  {
   "cell_type": "code",
   "execution_count": null,
   "id": "12d300fb",
   "metadata": {},
   "outputs": [],
   "source": [
    "#while loops are useful when the number of iterations is not known before hand\n",
    "#for example, when a program terminates with a certain user input\n",
    "x = int(input(\"Enter a number: \"))\n",
    "while x != 0:\n",
    "    x = int(input(\"Enter a number: \"))"
   ]
  },
  {
   "cell_type": "code",
   "execution_count": null,
   "id": "66303e0f",
   "metadata": {},
   "outputs": [],
   "source": [
    "#You can manually exit a while loop using break\n",
    "#This is useful if you want the program to do something before exiting the loop\n",
    "#Or if you have an exit condition that has a <1 chance of happening \n",
    "i = 0\n",
    "while 1:\n",
    "    if i == 5:\n",
    "        print(\"Number is 5\")\n",
    "        break\n",
    "    else:\n",
    "        print(\"Number is not 5\")\n",
    "    i += 1"
   ]
  },
  {
   "cell_type": "code",
   "execution_count": null,
   "id": "bd1fee27",
   "metadata": {},
   "outputs": [],
   "source": [
    "#while loops can also be used to iterate through iterables\n",
    "i = 0\n",
    "x = [1, 2, 3, 4, 5, 6, 7, 8, 9, 10]\n",
    "y = 0\n",
    "while i < len(x):\n",
    "    y += x[i]\n",
    "    i += 1\n",
    "print(y)"
   ]
  },
  {
   "cell_type": "markdown",
   "id": "b0dd96c2",
   "metadata": {},
   "source": [
    "## For loops"
   ]
  },
  {
   "cell_type": "code",
   "execution_count": null,
   "id": "e5216063",
   "metadata": {},
   "outputs": [],
   "source": [
    "#For loops execute some code for each element in an iterable\n",
    "#First set a variable name, then the loop will execute the code for each value iin the iterable\n",
    "x = [1, 2, 3, 4, 5, 6, 7, 8, 9, 10]\n",
    "for i in x:\n",
    "    print(i, end = ' ')"
   ]
  },
  {
   "cell_type": "code",
   "execution_count": null,
   "id": "ebbfea96",
   "metadata": {},
   "outputs": [],
   "source": [
    "#This can be any type of iterable (List, Tuple, Range, Set, Dict, String)\n",
    "a = 'apple'\n",
    "for i in a:\n",
    "    print(i, end = ' ')\n",
    "    \n",
    "print()\n",
    "\n",
    "specs = {\"Processor\": \"Ryzen 7 5800X\",\n",
    "        \"Graphics Card\": \"NVIDIA RTX 3070\",\n",
    "        \"Memory\": \"Corsair Dominator 3600 CL18\"}\n",
    "for x in specs:\n",
    "    print(x, specs[x])"
   ]
  },
  {
   "cell_type": "code",
   "execution_count": null,
   "id": "408aa288",
   "metadata": {},
   "outputs": [],
   "source": [
    "#You can use the range function if you want to use a for loop, but don't have an iterable with the values you want\n",
    "#the range function makes an iterable from 0 to n-1 if it is given a single argument (range(stop))\n",
    "for i in range(10):\n",
    "    print(i + 1, end = ' ')"
   ]
  },
  {
   "cell_type": "code",
   "execution_count": null,
   "id": "83373136",
   "metadata": {},
   "outputs": [],
   "source": [
    "#if range is given 2 or 3 arguments, the arguments then change to start, stop, step (range(start, stop, step))\n",
    "#in this case, the loop will begin at start, finish at stop - 1 and increment step for each iteration\n",
    "for i in range(50, 101, 5):\n",
    "    print(i, end = ' ')"
   ]
  },
  {
   "cell_type": "code",
   "execution_count": null,
   "id": "5e3a9f11",
   "metadata": {},
   "outputs": [],
   "source": [
    "#you can use range to iterate through an iterable of unknown length using the len() function\n",
    "#you use the loop variable to index through the array\n",
    "#you can also use break to manually exit a loop\n",
    "x = [42, 98, 56, 23, 51, 36, 77, 19, 4, 81]\n",
    "for i in range(len(x)):\n",
    "    if x[i] % 9 == 0:\n",
    "        print('Iterable contains an element divisible by 9:', x[i])\n",
    "        break"
   ]
  },
  {
   "cell_type": "code",
   "execution_count": 12,
   "id": "d5d79945",
   "metadata": {},
   "outputs": [
    {
     "name": "stdout",
     "output_type": "stream",
     "text": [
      "['1', '2', '3', '4', '5', '6', '7', '8', '9', '10']\n",
      "[1, 2, 3, 4, 5, 6, 7, 8, 9, 10]\n"
     ]
    }
   ],
   "source": [
    "#you can place the operation in front of the for loop for operations inside a list\n",
    "#placing an loop that is doing some operation on an iterable inside a list creates a new list\n",
    "nums = ['1', '2', '3', '4', '5', '6', '7', '8', '9', '10']\n",
    "convertedNums = [int(x) for x in nums]\n",
    "print(nums)\n",
    "print(convertedNums)"
   ]
  },
  {
   "cell_type": "markdown",
   "id": "12c23ff6",
   "metadata": {},
   "source": [
    "## Nested Loops"
   ]
  },
  {
   "cell_type": "code",
   "execution_count": null,
   "id": "1b0c74c6",
   "metadata": {},
   "outputs": [],
   "source": [
    "#It is often useful to run a loop inside another loop. These are called nested loops\n",
    "#You can nest a while loop inside a for loop and vice-versa\n",
    "#Nested loops are great for iteratiing through 2D data\n",
    "for i in range(10):\n",
    "    for j in range(1, 11):\n",
    "        print(i*10 + j, end = '\\t')\n",
    "    print()"
   ]
  },
  {
   "cell_type": "code",
   "execution_count": 3,
   "id": "5b8bfd92",
   "metadata": {},
   "outputs": [
    {
     "name": "stdout",
     "output_type": "stream",
     "text": [
      "Enter a number: 1\n"
     ]
    }
   ],
   "source": [
    "x = int(input(\"Enter a number: \"))\n",
    "while x >= 3:\n",
    "    for i in range(3, x + 1, 3):\n",
    "        print(i, end = ' ')\n",
    "    print()\n",
    "    x = int(input(\"Enter a number: \"))"
   ]
  },
  {
   "cell_type": "markdown",
   "id": "705902af",
   "metadata": {},
   "source": [
    "## Multi-Dimensional Data"
   ]
  },
  {
   "cell_type": "code",
   "execution_count": 10,
   "id": "b4b29b51",
   "metadata": {},
   "outputs": [
    {
     "name": "stdout",
     "output_type": "stream",
     "text": [
      "51\n"
     ]
    }
   ],
   "source": [
    "#data in python isn't limited to one dimension\n",
    "#You can make 2D data by storing an iterable in another iterable\n",
    "#The most common form is a 2D list (or a list of lists)\n",
    "grades =  [[98, 97, 89, 86],\n",
    "           [65, 84, 78, 87],\n",
    "           [48, 55, 61, 51],\n",
    "           [74, 63, 89, 67]]\n",
    "#to access individual elements of a list, you can subscript a subscript\n",
    "#each of the sub-lists is indexed just like variables in 1D lists\n",
    "#each element in the sub-lists is available after indexind the appropriate sub-list\n",
    "score = grades[2][3]\n",
    "print(score)"
   ]
  },
  {
   "cell_type": "code",
   "execution_count": 5,
   "id": "36b785e4",
   "metadata": {},
   "outputs": [
    {
     "name": "stdout",
     "output_type": "stream",
     "text": [
      "92.5 78.5 53.75 73.25\n"
     ]
    }
   ],
   "source": [
    "#You can iterate through multi-dimensional data using nested loops\n",
    "averages = []\n",
    "\n",
    "for i in grades:\n",
    "    average = 0\n",
    "    for j in i:\n",
    "        average += j;\n",
    "    average /= len(i)\n",
    "    averages.append(average)\n",
    "\n",
    "print(*averages)        "
   ]
  },
  {
   "cell_type": "code",
   "execution_count": 6,
   "id": "630a7548",
   "metadata": {},
   "outputs": [
    {
     "name": "stdout",
     "output_type": "stream",
     "text": [
      "92.5 78.5 53.75 73.25\n"
     ]
    }
   ],
   "source": [
    "#This does the same as the above cell, but uses the loops to sub-script instead of setting variables\n",
    "averages = []\n",
    "\n",
    "for i in range(len(grades)):\n",
    "    average = 0\n",
    "    for j in range(len(grades[i])):\n",
    "        average += grades[i][j];\n",
    "    average /= len(grades[i])\n",
    "    averages.append(average)\n",
    "\n",
    "print(*averages)        "
   ]
  },
  {
   "cell_type": "code",
   "execution_count": 9,
   "id": "1114cdc1",
   "metadata": {},
   "outputs": [
    {
     "name": "stdout",
     "output_type": "stream",
     "text": [
      "1 2 3 4 5 6 7 8 9 10\n",
      "2 4 6 8 10 12 14 16 18 20\n",
      "3 6 9 12 15 18 21 24 27 30\n",
      "4 8 12 16 20 24 28 32 36 40\n",
      "5 10 15 20 25 30 35 40 45 50\n",
      "6 12 18 24 30 36 42 48 54 60\n",
      "7 14 21 28 35 42 49 56 63 70\n",
      "8 16 24 32 40 48 56 64 72 80\n",
      "9 18 27 36 45 54 63 72 81 90\n",
      "10 20 30 40 50 60 70 80 90 100\n"
     ]
    }
   ],
   "source": [
    "#you can populate multi dimensional data using nested loops\n",
    "multiples = []\n",
    "for i in range(1, 11):\n",
    "    temp = []\n",
    "    for j in range(1, 11):\n",
    "        temp.append(i*j)\n",
    "    multiples.append(temp)\n",
    "\n",
    "#you can also iterate through a list to print line by line\n",
    "for x in multiples:\n",
    "    print(*x)"
   ]
  },
  {
   "cell_type": "markdown",
   "id": "168aba78",
   "metadata": {},
   "source": [
    "# List Comprehension"
   ]
  },
  {
   "cell_type": "code",
   "execution_count": 4,
   "id": "ab111f6f",
   "metadata": {},
   "outputs": [
    {
     "name": "stdout",
     "output_type": "stream",
     "text": [
      "[0, 0, 0, 0, 0, 0, 0, 0, 0, 0]\n"
     ]
    }
   ],
   "source": [
    "zeroes = [0 for x in range(10)]\n",
    "print(zeroes)"
   ]
  },
  {
   "cell_type": "code",
   "execution_count": 5,
   "id": "63b989b6",
   "metadata": {},
   "outputs": [
    {
     "name": "stdout",
     "output_type": "stream",
     "text": [
      "[1, 2, 3, 4, 5, 6, 7, 8, 9, 10, 11, 12, 13, 14, 15, 16, 17, 18, 19, 20]\n"
     ]
    }
   ],
   "source": [
    "nums = [i for i in range(1, 21)]\n",
    "print(nums)"
   ]
  },
  {
   "cell_type": "code",
   "execution_count": 6,
   "id": "6cf9ede0",
   "metadata": {},
   "outputs": [
    {
     "name": "stdout",
     "output_type": "stream",
     "text": [
      "Enter some numbers26 45 2 3 7 85 945 1\n",
      "[26, 45, 2, 3, 7, 85, 945, 1]\n"
     ]
    }
   ],
   "source": [
    "inputNums = [int(x) for x in input(\"Enter some numbers\").split()]\n",
    "print(inputNums)"
   ]
  },
  {
   "cell_type": "code",
   "execution_count": null,
   "id": "8686213d",
   "metadata": {},
   "outputs": [],
   "source": []
  }
 ],
 "metadata": {
  "kernelspec": {
   "display_name": "Python 3",
   "language": "python",
   "name": "python3"
  },
  "language_info": {
   "codemirror_mode": {
    "name": "ipython",
    "version": 3
   },
   "file_extension": ".py",
   "mimetype": "text/x-python",
   "name": "python",
   "nbconvert_exporter": "python",
   "pygments_lexer": "ipython3",
   "version": "3.8.5"
  }
 },
 "nbformat": 4,
 "nbformat_minor": 5
}
