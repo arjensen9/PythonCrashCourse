{
 "cells": [
  {
   "cell_type": "markdown",
   "id": "0d45e822",
   "metadata": {},
   "source": [
    "# Sets and Dictionaries"
   ]
  },
  {
   "cell_type": "markdown",
   "id": "98c8621e",
   "metadata": {},
   "source": [
    "## Sets"
   ]
  },
  {
   "cell_type": "markdown",
   "id": "7d213b08",
   "metadata": {},
   "source": [
    "Sets in python can be compared to mathematical sets.\n",
    "\n",
    "They are a collection of values, but contain no duplicates.\n",
    "\n",
    "Sets use curly brackets in python."
   ]
  },
  {
   "cell_type": "code",
   "execution_count": 2,
   "id": "2e0d2dab",
   "metadata": {},
   "outputs": [
    {
     "name": "stdout",
     "output_type": "stream",
     "text": [
      "<class 'set'> \n",
      " {10, 11, 12, 15, 16, 17}\n"
     ]
    }
   ],
   "source": [
    "set1 = {10, 15, 17, 16, 11, 12}\n",
    "#When you print a completely numerical set it will print in ascending order\n",
    "print(type(set1), '\\n', set1)"
   ]
  },
  {
   "cell_type": "code",
   "execution_count": 3,
   "id": "f19a74f2",
   "metadata": {},
   "outputs": [
    {
     "name": "stdout",
     "output_type": "stream",
     "text": [
      "{'Samoa', 'Papua New Guinea', 'New Zealand', 'Australia', 'Fiji', 'Tonga'}\n"
     ]
    }
   ],
   "source": [
    "#Sets can contain strings as well\n",
    "set2 = {'Australia', 'New Zealand', 'Papua New Guinea', 'Fiji', 'Samoa', 'Tonga'}\n",
    "print(set2)"
   ]
  },
  {
   "cell_type": "code",
   "execution_count": 5,
   "id": "8d38baed",
   "metadata": {},
   "outputs": [
    {
     "name": "stdout",
     "output_type": "stream",
     "text": [
      "{'Samoa', 'Papua New Guinea', 'New Zealand', 'Australia', 'Fiji', 'Tonga'}\n"
     ]
    }
   ],
   "source": [
    "#if you declare a set with duplicate values, it will discard the unnecessary values\n",
    "set2 = {'Australia', 'Australia', 'Australia', 'New Zealand', 'Papua New Guinea', 'Fiji', 'Samoa', 'Tonga'}\n",
    "print(set2)"
   ]
  },
  {
   "cell_type": "code",
   "execution_count": 7,
   "id": "80ccaee2",
   "metadata": {},
   "outputs": [
    {
     "name": "stdout",
     "output_type": "stream",
     "text": [
      "num is in set1\n"
     ]
    }
   ],
   "source": [
    "#One of the most useful checks for sets (or any other iterable) is the if-in check\n",
    "num = 11\n",
    "\n",
    "if num in set1:\n",
    "    print('num is in set1')\n",
    "else:\n",
    "    print('num is not in set1')\n",
    "\n",
    "#you can use this check for other iterables as well (lists, tuples, strings, dictionaries)"
   ]
  },
  {
   "cell_type": "markdown",
   "id": "765a5dc5",
   "metadata": {},
   "source": [
    "### Set Methods"
   ]
  },
  {
   "cell_type": "code",
   "execution_count": 8,
   "id": "bd8a63e0",
   "metadata": {},
   "outputs": [
    {
     "name": "stdout",
     "output_type": "stream",
     "text": [
      "{10, 11, 12, 13, 15, 16, 17}\n",
      "{'Samoa', 'Papua New Guinea', 'New Zealand', 'Australia', 'Fiji', 'Tonga'}\n"
     ]
    }
   ],
   "source": [
    "#add() adds a value to a set if it isn't already in the set\n",
    "#if you try to add a number that is already in the set, nothing will happen\n",
    "set1.add(13)\n",
    "print(set1)\n",
    "set2.add('Fiji')\n",
    "print(set2)"
   ]
  },
  {
   "cell_type": "code",
   "execution_count": 9,
   "id": "e51a2d95",
   "metadata": {},
   "outputs": [
    {
     "name": "stdout",
     "output_type": "stream",
     "text": [
      "{10, 11, 12, 15, 16, 17}\n"
     ]
    }
   ],
   "source": [
    "#discard() removes the item IF it is in the set\n",
    "set1.discard(13)\n",
    "print(set1)\n",
    "set1.discard(13)"
   ]
  },
  {
   "cell_type": "code",
   "execution_count": 10,
   "id": "2df42eea",
   "metadata": {},
   "outputs": [
    {
     "name": "stdout",
     "output_type": "stream",
     "text": [
      "Number is not in set\n"
     ]
    }
   ],
   "source": [
    "#remove() removes a specified value from a set, and returns an error if it is not in the set\n",
    "#If you are error checking, the try/except method is a good way to avoid program termination\n",
    "try:\n",
    "    set1.remove(13)\n",
    "except:\n",
    "    print('Number is not in set')"
   ]
  },
  {
   "cell_type": "code",
   "execution_count": 11,
   "id": "bdf8266d",
   "metadata": {},
   "outputs": [
    {
     "ename": "TypeError",
     "evalue": "'type' object is not subscriptable",
     "output_type": "error",
     "traceback": [
      "\u001b[1;31m---------------------------------------------------------------------------\u001b[0m",
      "\u001b[1;31mTypeError\u001b[0m                                 Traceback (most recent call last)",
      "\u001b[1;32m<ipython-input-11-dc83a0e0cf8c>\u001b[0m in \u001b[0;36m<module>\u001b[1;34m\u001b[0m\n\u001b[0;32m      1\u001b[0m \u001b[1;31m#like lists, you need to explicitly copy sets. Sets are not subscriptable, so you have to use the copy method\u001b[0m\u001b[1;33m\u001b[0m\u001b[1;33m\u001b[0m\u001b[1;33m\u001b[0m\u001b[0m\n\u001b[1;32m----> 2\u001b[1;33m \u001b[0mprint\u001b[0m\u001b[1;33m(\u001b[0m\u001b[0mset\u001b[0m\u001b[1;33m[\u001b[0m\u001b[1;36m1\u001b[0m\u001b[1;33m]\u001b[0m\u001b[1;33m)\u001b[0m\u001b[1;33m\u001b[0m\u001b[1;33m\u001b[0m\u001b[0m\n\u001b[0m\u001b[0;32m      3\u001b[0m \u001b[0mset3\u001b[0m \u001b[1;33m=\u001b[0m \u001b[0mset1\u001b[0m\u001b[1;33m.\u001b[0m\u001b[0mcopy\u001b[0m\u001b[1;33m(\u001b[0m\u001b[1;33m)\u001b[0m\u001b[1;33m\u001b[0m\u001b[1;33m\u001b[0m\u001b[0m\n\u001b[0;32m      4\u001b[0m \u001b[0mprint\u001b[0m\u001b[1;33m(\u001b[0m\u001b[0mset3\u001b[0m\u001b[1;33m)\u001b[0m\u001b[1;33m\u001b[0m\u001b[1;33m\u001b[0m\u001b[0m\n",
      "\u001b[1;31mTypeError\u001b[0m: 'type' object is not subscriptable"
     ]
    }
   ],
   "source": [
    "#like lists, you need to explicitly copy sets. Sets are not subscriptable, so you have to use the copy method\n",
    "set3 = set1.copy()\n",
    "print(set3)"
   ]
  },
  {
   "cell_type": "code",
   "execution_count": 15,
   "id": "bb127e4c",
   "metadata": {},
   "outputs": [
    {
     "name": "stdout",
     "output_type": "stream",
     "text": [
      "{10, 11, 12, 13, 14, 15, 16, 17, 18, 19}\n"
     ]
    }
   ],
   "source": [
    "#union() returns the union of the set and it's given input (makes another set using the values of both sets)\n",
    "unionSet = set1.union({13, 14, 18, 19})\n",
    "print(unionSet)"
   ]
  },
  {
   "cell_type": "code",
   "execution_count": 16,
   "id": "648dca28",
   "metadata": {},
   "outputs": [
    {
     "name": "stdout",
     "output_type": "stream",
     "text": [
      "{16, 10, 12}\n"
     ]
    }
   ],
   "source": [
    "#intersection() returns the intersection of the set and it's given input (a set containing the common values of each set) \n",
    "intersectionSet = set1.intersection({16, 19, 10, 12, 100})\n",
    "print(intersectionSet)"
   ]
  },
  {
   "cell_type": "code",
   "execution_count": 17,
   "id": "fc49ce9b",
   "metadata": {},
   "outputs": [
    {
     "name": "stdout",
     "output_type": "stream",
     "text": [
      "{1, 2, 4, 5, 7, 9, 10, 11, 12, 15, 16, 17}\n"
     ]
    }
   ],
   "source": [
    "#update() adds any iterable (list, tuple, set) to the set\n",
    "list1 = [1, 5, 4, 2, 9, 7]\n",
    "set1.update(list1)\n",
    "print(set1)\n",
    "#Other methods exist for sets. Again, google or help() are your friend for these"
   ]
  },
  {
   "cell_type": "markdown",
   "id": "2308df4f",
   "metadata": {},
   "source": [
    "## Dictionaries"
   ]
  },
  {
   "cell_type": "code",
   "execution_count": 18,
   "id": "95df8382",
   "metadata": {},
   "outputs": [
    {
     "name": "stdout",
     "output_type": "stream",
     "text": [
      "{'Processor': 'Ryzen 7 5800X', 'Graphics Card': 'NVIDIA RTX 3070', 'Memory': 'Corsair 3600'}\n"
     ]
    }
   ],
   "source": [
    "#Dictionaries store keys and their associated values\n",
    "#You use the key to find the value.\n",
    "dict1 = {'Processor': 'Ryzen 7 5800X',\n",
    "        'Graphics Card': 'NVIDIA RTX 3070',\n",
    "        'Memory': 'Corsair 3600'}\n",
    "print(dict1)"
   ]
  },
  {
   "cell_type": "code",
   "execution_count": 19,
   "id": "eb207917",
   "metadata": {},
   "outputs": [
    {
     "name": "stdout",
     "output_type": "stream",
     "text": [
      "Corsair 3600\n"
     ]
    }
   ],
   "source": [
    "#if you just want the value from one key in the dictionary, you subscript the key\n",
    "print(dict1['Memory'])"
   ]
  },
  {
   "cell_type": "code",
   "execution_count": 20,
   "id": "8547b385",
   "metadata": {},
   "outputs": [
    {
     "name": "stdout",
     "output_type": "stream",
     "text": [
      "{'wellhead': ['WB112', 'DR56', 'SBJ201'], 'pump': ['DR137', 'DR138', 'SBJ3'], 'other': ['WB222', 'DR48', 'DR305', 'SBJ69', 'SBJ278']}\n"
     ]
    }
   ],
   "source": [
    "#if you need to store multiple items under one key, you can set the value to in iterable\n",
    "#if you need to update it, store it in a mutable data type, like a list or set\n",
    "failures = {'wellhead':['WB112', 'DR56', \"SBJ201\"],\n",
    "               'pump': ['DR137', 'DR138', 'SBJ3'],\n",
    "               'other': ['WB222', 'DR48', 'DR305', 'SBJ69', 'SBJ278']}\n",
    "print(failures)"
   ]
  },
  {
   "cell_type": "code",
   "execution_count": 21,
   "id": "f2f70aa5",
   "metadata": {},
   "outputs": [
    {
     "name": "stdout",
     "output_type": "stream",
     "text": [
      "{'wellhead': ['WB112', 'DR56', 'SBJ201'], 'pump': ['DR137', 'DR138', 'SBJ3', 'WB99'], 'other': ['WB222', 'DR48', 'DR305', 'SBJ69', 'SBJ278']}\n"
     ]
    }
   ],
   "source": [
    "#to append the data, you first access it by using the key\n",
    "failures['pump'].append('WB99')\n",
    "print(failures)"
   ]
  },
  {
   "cell_type": "markdown",
   "id": "e270aa07",
   "metadata": {},
   "source": [
    "### Dictionary Methods"
   ]
  },
  {
   "cell_type": "code",
   "execution_count": 26,
   "id": "c4b01bf4",
   "metadata": {},
   "outputs": [
    {
     "name": "stdout",
     "output_type": "stream",
     "text": [
      "dict_items([('Processor', 'Ryzen 7 5800X'), ('Graphics Card', 'NVIDIA RTX 3070'), ('Memory', 'Corsair 3600')])\n",
      "dict_items([('wellhead', ['WB112', 'DR56', 'SBJ201']), ('pump', ['DR137', 'DR138', 'SBJ3', 'WB99']), ('other', ['WB222', 'DR48', 'DR305', 'SBJ69', 'SBJ278'])])\n"
     ]
    }
   ],
   "source": [
    "#items() returns a list of tuples containing all the key pairs\n",
    "print(dict1.items())\n",
    "print(failures.items())"
   ]
  },
  {
   "cell_type": "code",
   "execution_count": 28,
   "id": "6537db59",
   "metadata": {},
   "outputs": [
    {
     "name": "stdout",
     "output_type": "stream",
     "text": [
      "dict_keys(['Processor', 'Graphics Card', 'Memory'])\n",
      "dict_keys(['wellhead', 'pump', 'other'])\n"
     ]
    }
   ],
   "source": [
    "#keys() returns the names of all the keys in the list\n",
    "print(dict1.keys())\n",
    "print(failures.keys())"
   ]
  },
  {
   "cell_type": "code",
   "execution_count": 29,
   "id": "d3e14685",
   "metadata": {},
   "outputs": [
    {
     "name": "stdout",
     "output_type": "stream",
     "text": [
      "dict_values([['WB112', 'DR56', 'SBJ201'], ['DR137', 'DR138', 'SBJ3', 'WB99'], ['WB222', 'DR48', 'DR305', 'SBJ69', 'SBJ278']])\n"
     ]
    }
   ],
   "source": [
    "#values returns all the values in the dictionary\n",
    "print(failures.values())"
   ]
  },
  {
   "cell_type": "code",
   "execution_count": 30,
   "id": "a08aeacc",
   "metadata": {},
   "outputs": [
    {
     "name": "stdout",
     "output_type": "stream",
     "text": [
      "{'Processor': 'Ryzen 7 5800X', 'Graphics Card': 'NVIDIA RTX 3070', 'Memory': 'Corsair 3600'}\n",
      "{'Processor': 'Ryzen 7 5800X', 'Graphics Card': 'NVIDIA RTX 3070', 'Memory': 'Corsair 3600', 'Storage': 'Crucial 2TB'}\n"
     ]
    }
   ],
   "source": [
    "#setdefault\n",
    "dict1.setdefault('Graphics Card', 'Radeon 5800X')\n",
    "print(dict1)\n",
    "dict1.setdefault('Storage', 'Crucial 2TB')\n",
    "print(dict1)"
   ]
  },
  {
   "cell_type": "code",
   "execution_count": 31,
   "id": "dc7b6fee",
   "metadata": {},
   "outputs": [
    {
     "name": "stdout",
     "output_type": "stream",
     "text": [
      "{'Processor': 'Ryzen 7 5800X', 'Graphics Card': 'Radeon 6800', 'Memory': 'Corsair 3600', 'Storage': 'Crucial 2TB', 'Case': 'Fractal Meshify C'}\n"
     ]
    }
   ],
   "source": [
    "#update allows you to modiify a value that exists in the dictionary\n",
    "dict1.update({'Graphics Card': 'Radeon 6800'})\n",
    "dict1.update({'Case': 'Fractal Meshify C'})\n",
    "print(dict1)"
   ]
  },
  {
   "cell_type": "code",
   "execution_count": 32,
   "id": "124f9828",
   "metadata": {},
   "outputs": [
    {
     "name": "stdout",
     "output_type": "stream",
     "text": [
      "{'Processor': 'Ryzen 7 5800X', 'Graphics Card': 'Radeon 6800', 'Memory': 'Corsair 3600', 'Storage': 'Crucial 2TB'}\n"
     ]
    }
   ],
   "source": [
    "#pop removes value with specified key\n",
    "dict1.pop('Case')\n",
    "print(dict1)"
   ]
  },
  {
   "cell_type": "code",
   "execution_count": 33,
   "id": "2008a9db",
   "metadata": {},
   "outputs": [
    {
     "name": "stdout",
     "output_type": "stream",
     "text": [
      "{'x': [], 'y': [], 'z': []}\n"
     ]
    }
   ],
   "source": [
    "#If you want to store an assotment of values at a key, you can make a key-list pair\n",
    "dictKeys = ['x', 'y', 'z']\n",
    "dictValues = []\n",
    "\n",
    "newDict = dict.fromkeys(dictKeys, dictValues)\n",
    "print(newDict)"
   ]
  },
  {
   "cell_type": "code",
   "execution_count": null,
   "id": "6110e15b",
   "metadata": {},
   "outputs": [],
   "source": []
  }
 ],
 "metadata": {
  "kernelspec": {
   "display_name": "Python 3",
   "language": "python",
   "name": "python3"
  },
  "language_info": {
   "codemirror_mode": {
    "name": "ipython",
    "version": 3
   },
   "file_extension": ".py",
   "mimetype": "text/x-python",
   "name": "python",
   "nbconvert_exporter": "python",
   "pygments_lexer": "ipython3",
   "version": "3.8.5"
  }
 },
 "nbformat": 4,
 "nbformat_minor": 5
}
