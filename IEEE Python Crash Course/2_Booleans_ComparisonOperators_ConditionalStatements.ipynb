{
 "cells": [
  {
   "cell_type": "markdown",
   "id": "bea99b07",
   "metadata": {},
   "source": [
    "# Booleans, Comparison Operators & Conditional Statements"
   ]
  },
  {
   "cell_type": "code",
   "execution_count": null,
   "id": "ae16bd9c",
   "metadata": {},
   "outputs": [],
   "source": [
    "#Booleans\n",
    "isValid = True \n",
    "sufficientFunds = False\n",
    "\n",
    "print(isValid)\n",
    "print(type(isValid))\n",
    "print(\"Evaluates to:\", int(isValid))\n",
    "print(sufficientFunds)\n",
    "print(type(sufficientFunds))"
   ]
  },
  {
   "cell_type": "code",
   "execution_count": null,
   "id": "ca64bbde",
   "metadata": {},
   "outputs": [],
   "source": [
    "#Comparison Operators\n",
    "a = 5\n",
    "b = 9\n",
    "c = 9\n",
    "\n",
    "x = a > b\n",
    "print(type(x))\n",
    "print(x)\n",
    "print(a > b)"
   ]
  },
  {
   "cell_type": "code",
   "execution_count": null,
   "id": "89c80f14",
   "metadata": {},
   "outputs": [],
   "source": [
    "x = b > c\n",
    "print(x)"
   ]
  },
  {
   "cell_type": "code",
   "execution_count": null,
   "id": "144988c2",
   "metadata": {},
   "outputs": [],
   "source": [
    "x = b >= c\n",
    "print(x)"
   ]
  },
  {
   "cell_type": "code",
   "execution_count": null,
   "id": "9bb6117d",
   "metadata": {},
   "outputs": [],
   "source": [
    "x = a < b\n",
    "print(x)"
   ]
  },
  {
   "cell_type": "code",
   "execution_count": null,
   "id": "366c5587",
   "metadata": {},
   "outputs": [],
   "source": [
    "x = a == b\n",
    "print(x)"
   ]
  },
  {
   "cell_type": "code",
   "execution_count": null,
   "id": "f8777b58",
   "metadata": {},
   "outputs": [],
   "source": [
    "#multiple conditions\n",
    "#logical and\n",
    "x = a > b & a > c\n",
    "print(x)\n",
    "x = a > b and a > c\n",
    "print(x)"
   ]
  },
  {
   "cell_type": "code",
   "execution_count": null,
   "id": "8bf3bc3c",
   "metadata": {},
   "outputs": [],
   "source": [
    "#logical or\n",
    "x = a > b | a > c\n",
    "print(x)\n",
    "x = a > b or a > c\n",
    "print(x)"
   ]
  },
  {
   "cell_type": "code",
   "execution_count": null,
   "id": "50d91192",
   "metadata": {},
   "outputs": [],
   "source": [
    "#negation\n",
    "x = (a != b)\n",
    "print(x)\n",
    "\n",
    "#negation of a defined variable\n",
    "print(not isValid)\n",
    "print(\"Evaluates to:\", int(not isValid))"
   ]
  },
  {
   "cell_type": "markdown",
   "id": "d4a5e112",
   "metadata": {},
   "source": [
    "## Conditional Statements"
   ]
  },
  {
   "cell_type": "code",
   "execution_count": null,
   "id": "f92cf71c",
   "metadata": {},
   "outputs": [],
   "source": [
    "#Indentation is important in Python!\n",
    "#Using comparison operators\n",
    "a = 10\n",
    "b = 9\n",
    "\n",
    "if(a > b):\n",
    "    print(\"A is larger\")\n",
    "else:\n",
    "    print(\"A is Smaller\")"
   ]
  },
  {
   "cell_type": "code",
   "execution_count": null,
   "id": "1f0e45bb",
   "metadata": {},
   "outputs": [],
   "source": [
    "#using booleans\n",
    "if(isValid):\n",
    "    print(\"Valid\")\n",
    "else:\n",
    "    print(\"Not Valid\")"
   ]
  },
  {
   "cell_type": "code",
   "execution_count": null,
   "id": "7c16b3af",
   "metadata": {},
   "outputs": [],
   "source": [
    "#Multiple conditions\n",
    "a = 5\n",
    "b = 9\n",
    "c = 4\n",
    "\n",
    "if(a > b & a > c):\n",
    "    print(\"A is the largest number\")\n",
    "else:\n",
    "    print(\"A is not the largest number\")"
   ]
  },
  {
   "cell_type": "code",
   "execution_count": null,
   "id": "fa40c8db",
   "metadata": {},
   "outputs": [],
   "source": [
    "#elif statement\n",
    "a = 5\n",
    "b = 9\n",
    "c = 4\n",
    "\n",
    "if(a > b):\n",
    "    print(\"A is greater than B\")\n",
    "elif(a > c):\n",
    "    print(\"A is greater than C but smaller than or equal to B\")\n",
    "else:\n",
    "    print(\"A is the smallest number\")"
   ]
  },
  {
   "cell_type": "code",
   "execution_count": null,
   "id": "73eefaed",
   "metadata": {},
   "outputs": [],
   "source": [
    "#Nested statements\n",
    "#Remember, indentation is important\n",
    "a = 9\n",
    "b = 5\n",
    "condition = True\n",
    "\n",
    "if(a > b):\n",
    "    if(condition):\n",
    "        print(\"A is greater than B and the condition is true\")\n",
    "    else:\n",
    "        print(\"A is greater than B but the condition is false\")\n",
    "else:\n",
    "    print(\"A is not greater than B. The condition is irrelevant\")"
   ]
  },
  {
   "cell_type": "markdown",
   "id": "16723730",
   "metadata": {},
   "source": [
    "## Practice Problem\n",
    "New driver's are required to undergo a provisional period before they move onto their full license. Drivers under the age of 25 also have to complete a 1 year learners period before moving onto their provisional license. New drivers can start their learners period when they turn 16. Write a program that asks for a users age. If the user is under 16, the program will tell the user they are too young to drive. If the user is 16, the program must notify them they are eligible to start their learner's period. If the user is older than 16 but younger than 25, the program must then ask if the user has completed their learners period (y or n). If they haven't, the program will prompt them to complete their learners period before continuing. For all other conditions, the program will tell the user they are eligible for their provisional license."
   ]
  },
  {
   "cell_type": "code",
   "execution_count": null,
   "id": "c9c7148a",
   "metadata": {},
   "outputs": [],
   "source": []
  }
 ],
 "metadata": {
  "kernelspec": {
   "display_name": "Python 3",
   "language": "python",
   "name": "python3"
  },
  "language_info": {
   "codemirror_mode": {
    "name": "ipython",
    "version": 3
   },
   "file_extension": ".py",
   "mimetype": "text/x-python",
   "name": "python",
   "nbconvert_exporter": "python",
   "pygments_lexer": "ipython3",
   "version": "3.8.5"
  }
 },
 "nbformat": 4,
 "nbformat_minor": 5
}
