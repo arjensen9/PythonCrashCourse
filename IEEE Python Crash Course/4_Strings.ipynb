{
 "cells": [
  {
   "cell_type": "markdown",
   "id": "5e90a760",
   "metadata": {},
   "source": [
    "# Strings"
   ]
  },
  {
   "cell_type": "code",
   "execution_count": 1,
   "id": "902aa41f",
   "metadata": {},
   "outputs": [],
   "source": [
    "#A string is a collection of characters\n",
    "string1 = 'Python is a very powerful tool, '\n",
    "string2 = 'if you know how to use it!'"
   ]
  },
  {
   "cell_type": "code",
   "execution_count": 2,
   "id": "dec97a55",
   "metadata": {},
   "outputs": [
    {
     "name": "stdout",
     "output_type": "stream",
     "text": [
      "Python is a very powerful tool, if you know how to use it!\n"
     ]
    }
   ],
   "source": [
    "#String concatenation\n",
    "string3 = string1 + string2\n",
    "print(string3)"
   ]
  },
  {
   "cell_type": "code",
   "execution_count": 3,
   "id": "ef854b00",
   "metadata": {},
   "outputs": [
    {
     "name": "stdout",
     "output_type": "stream",
     "text": [
      "__________\n"
     ]
    }
   ],
   "source": [
    "#you can also multiply strings to print the string x times\n",
    "uScore = '_'\n",
    "print(uScore*10)"
   ]
  },
  {
   "cell_type": "code",
   "execution_count": 4,
   "id": "33064512",
   "metadata": {},
   "outputs": [
    {
     "name": "stdout",
     "output_type": "stream",
     "text": [
      "1st Line \n",
      "2nd Line \n",
      "3rd Line \n",
      "4th Line\n"
     ]
    }
   ],
   "source": [
    "#Some explicit string characters\n",
    "#New line\n",
    "fourLines = \"1st Line \\n2nd Line \\n3rd Line \\n4th Line\"\n",
    "print(fourLines)"
   ]
  },
  {
   "cell_type": "code",
   "execution_count": 5,
   "id": "800eef51",
   "metadata": {},
   "outputs": [
    {
     "name": "stdout",
     "output_type": "stream",
     "text": [
      "Start\t\t\tFinish\n"
     ]
    }
   ],
   "source": [
    "#Tabs\n",
    "threeTabs = \"Start\\t\\t\\tFinish\"\n",
    "print(threeTabs)"
   ]
  },
  {
   "cell_type": "code",
   "execution_count": 6,
   "id": "269cbe56",
   "metadata": {},
   "outputs": [
    {
     "name": "stdout",
     "output_type": "stream",
     "text": [
      "'note the backslash is not there in the output, but the quotations marks are'\n"
     ]
    }
   ],
   "source": [
    "#Including quotation marks\n",
    "quotationMarks = \"\\'note the backslash is not there in the output, but the quotations marks are\\'\"\n",
    "print(quotationMarks)"
   ]
  },
  {
   "cell_type": "markdown",
   "id": "a64e6645",
   "metadata": {},
   "source": [
    "#### Make a string each for your first name, last name, nationality, and favourite quote. Include quotation marks in your favourite quote string"
   ]
  },
  {
   "cell_type": "code",
   "execution_count": null,
   "id": "e7a6fbc0",
   "metadata": {},
   "outputs": [],
   "source": []
  },
  {
   "cell_type": "markdown",
   "id": "78a88920",
   "metadata": {},
   "source": [
    "#### Print your first and last name on a single line, separated by two tabs. Print your nationality on a new line then leave a 1 line space before printing your favourite quote. Do all of this using a single print statement"
   ]
  },
  {
   "cell_type": "code",
   "execution_count": null,
   "id": "7b97ab5f",
   "metadata": {},
   "outputs": [],
   "source": []
  },
  {
   "cell_type": "markdown",
   "id": "169c6c2f",
   "metadata": {},
   "source": [
    "#### Concatenate your first name and last name and store it in a variable called fullName. Your names should be separated by a space and a new line character (\\n) should be added on the end. Print fullName 5 times using a single print statement. (Hint you can concatenate variable and string literals by typing the string literal in your statement: newVar = var1 + '_' + var2). "
   ]
  },
  {
   "cell_type": "code",
   "execution_count": null,
   "id": "939602f9",
   "metadata": {},
   "outputs": [],
   "source": []
  },
  {
   "cell_type": "markdown",
   "id": "122c6418",
   "metadata": {},
   "source": [
    "## String Methods\n",
    "Strings have lots of methods (way too many to do examples for all). Here are a few of them"
   ]
  },
  {
   "cell_type": "code",
   "execution_count": 7,
   "id": "19dc61a3",
   "metadata": {},
   "outputs": [
    {
     "name": "stdout",
     "output_type": "stream",
     "text": [
      "PYTHON IS A VERY POWERFUL TOOL, IF YOU KNOW HOW TO USE IT!\n"
     ]
    }
   ],
   "source": [
    "#Converts a string to uppercase\n",
    "print(string3.upper())"
   ]
  },
  {
   "cell_type": "code",
   "execution_count": 8,
   "id": "a908c5e5",
   "metadata": {},
   "outputs": [
    {
     "name": "stdout",
     "output_type": "stream",
     "text": [
      "python is a very powerful tool, if you know how to use it!\n"
     ]
    }
   ],
   "source": [
    "#Converts a string to lowercase\n",
    "print(string3.lower())"
   ]
  },
  {
   "cell_type": "code",
   "execution_count": 9,
   "id": "2a7447fe",
   "metadata": {},
   "outputs": [
    {
     "name": "stdout",
     "output_type": "stream",
     "text": [
      "There's non-letters in this string\n"
     ]
    }
   ],
   "source": [
    "#Returns True if all characters of a string are in the alphabet\n",
    "if(string3.isalpha()):\n",
    "    print(\"This string is all letters\")\n",
    "else:\n",
    "    print(\"There's non-letters in this string\")"
   ]
  },
  {
   "cell_type": "code",
   "execution_count": 10,
   "id": "95ba59fa",
   "metadata": {},
   "outputs": [
    {
     "name": "stdout",
     "output_type": "stream",
     "text": [
      "This string contains only valid ASCII characters\n"
     ]
    }
   ],
   "source": [
    "if(string3.isascii()):\n",
    "    print(\"This string contains only valid ASCII characters\")\n",
    "else:\n",
    "    print(\"There's non-ASCII characters in this string\")"
   ]
  },
  {
   "cell_type": "code",
   "execution_count": 11,
   "id": "e13e89ea",
   "metadata": {},
   "outputs": [
    {
     "name": "stdout",
     "output_type": "stream",
     "text": [
      "Python is a very powerful tool, if you know how to use it!\n",
      "['Python', 'is', 'a', 'very', 'powerful', 'tool,', 'if', 'you', 'know', 'how', 'to', 'use', 'it!']\n"
     ]
    }
   ],
   "source": [
    "#splits a string into list of the individual words in the string, split at whitespace\n",
    "string4 = string3.split()\n",
    "print(string3)\n",
    "print(string4)"
   ]
  },
  {
   "cell_type": "code",
   "execution_count": 12,
   "id": "6eae52a3",
   "metadata": {},
   "outputs": [
    {
     "name": "stdout",
     "output_type": "stream",
     "text": [
      "True\n"
     ]
    }
   ],
   "source": [
    "#isdidgit() returns true if entire string is digits (ignores whitespace)\n",
    "number = '12345'\n",
    "print(number.isdigit())"
   ]
  },
  {
   "cell_type": "markdown",
   "id": "e9554bb4",
   "metadata": {},
   "source": [
    "#### You will have to get used to looking up how to use methods for strings (and other types off classes). You can do this using the help() function, which takes a single class as an argument and prints the documentation for that class (try help(int) for demonstration). You can do this in the terminal or run a program to do this. The other method is simply googling the class you wish to know about. With this in mind, find a string method that can replace instances of one value and replace it with another and use it to change the first 2 instances of the word 'one' to 'won' in the given string."
   ]
  },
  {
   "cell_type": "code",
   "execution_count": 17,
   "id": "3f165152",
   "metadata": {},
   "outputs": [],
   "source": [
    "sentence = \"one one was a race horse, two two was one too.\"\n"
   ]
  },
  {
   "cell_type": "code",
   "execution_count": null,
   "id": "9e1c26bc",
   "metadata": {},
   "outputs": [],
   "source": [
    "help(str)"
   ]
  },
  {
   "cell_type": "markdown",
   "id": "9117bb6a",
   "metadata": {},
   "source": [
    "### String Indexing"
   ]
  },
  {
   "cell_type": "code",
   "execution_count": 19,
   "id": "82032826",
   "metadata": {},
   "outputs": [
    {
     "name": "stdout",
     "output_type": "stream",
     "text": [
      "resplendent\n",
      "e\n",
      "splendent\n",
      "resple\n",
      "eldt\n"
     ]
    }
   ],
   "source": [
    "#you can index a string exactly like a list\n",
    "exampleString = 'resplendent'\n",
    "print(exampleString)\n",
    "print(exampleString[5])\n",
    "print(exampleString[2:])\n",
    "print(exampleString[:6])\n",
    "print(exampleString[1::3])"
   ]
  },
  {
   "cell_type": "code",
   "execution_count": 20,
   "id": "e9ea95eb",
   "metadata": {},
   "outputs": [
    {
     "name": "stdout",
     "output_type": "stream",
     "text": [
      "erful\n"
     ]
    }
   ],
   "source": [
    "#If the string is part of a list, you can reference the position of the string in the lsit then index through the string\n",
    "#remember we split list 3 into individual words and stored it in list 4\n",
    "print(string4[4][3:])"
   ]
  },
  {
   "cell_type": "code",
   "execution_count": 21,
   "id": "ed8298ef",
   "metadata": {},
   "outputs": [
    {
     "name": "stdout",
     "output_type": "stream",
     "text": [
      "VERY\n"
     ]
    }
   ],
   "source": [
    "#you can also use methods on strings within a list by referencing their position\n",
    "print(string4[3].upper())"
   ]
  },
  {
   "cell_type": "markdown",
   "id": "9c01a708",
   "metadata": {},
   "source": [
    "#### Split the following string into a list containing the individual words of the string (name the variable 'words'). You will need to look at the documentation for the .split() method to figure out how to get it to split at the underscores and not at whitespace."
   ]
  },
  {
   "cell_type": "code",
   "execution_count": null,
   "id": "116f606e",
   "metadata": {},
   "outputs": [],
   "source": [
    "sentence = \"python_is_fun_are_you_having_fun\""
   ]
  },
  {
   "cell_type": "markdown",
   "id": "8f2823e6",
   "metadata": {},
   "source": [
    "#### Change both occurences of the word 'fun' in the list to be all capital letters, then print 'words' to show your work."
   ]
  },
  {
   "cell_type": "code",
   "execution_count": null,
   "id": "a44c516f",
   "metadata": {},
   "outputs": [],
   "source": []
  },
  {
   "cell_type": "markdown",
   "id": "5fbfefe5",
   "metadata": {},
   "source": [
    "#### Print the last letter of the word 'you' in the list. You should use the .index() method from last lesson to find the index of 'you'"
   ]
  },
  {
   "cell_type": "code",
   "execution_count": null,
   "id": "6cb8c69d",
   "metadata": {},
   "outputs": [],
   "source": []
  }
 ],
 "metadata": {
  "kernelspec": {
   "display_name": "Python 3",
   "language": "python",
   "name": "python3"
  },
  "language_info": {
   "codemirror_mode": {
    "name": "ipython",
    "version": 3
   },
   "file_extension": ".py",
   "mimetype": "text/x-python",
   "name": "python",
   "nbconvert_exporter": "python",
   "pygments_lexer": "ipython3",
   "version": "3.8.5"
  }
 },
 "nbformat": 4,
 "nbformat_minor": 5
}
