{
 "cells": [
  {
   "cell_type": "markdown",
   "id": "9847df38",
   "metadata": {},
   "source": [
    "# Lists & Tuples"
   ]
  },
  {
   "cell_type": "markdown",
   "id": "e88df2a4",
   "metadata": {},
   "source": [
    "## Lists"
   ]
  },
  {
   "cell_type": "code",
   "execution_count": null,
   "id": "1674b4f2",
   "metadata": {},
   "outputs": [],
   "source": [
    "#declaring an empty list\n",
    "list1 = []\n",
    "\n",
    "#declaring a list with some values\n",
    "list2 = [7, 24, 38, \"Apple\", 2.8]\n",
    "#idx  = [0,  1,  2,    3   ,  4]\n",
    "\n",
    "print(list2)"
   ]
  },
  {
   "cell_type": "markdown",
   "id": "2b0dc97a",
   "metadata": {},
   "source": [
    "#### Declare a list called 'myList' that contains 10 random integers (<100) of your choosing"
   ]
  },
  {
   "cell_type": "code",
   "execution_count": null,
   "id": "8f00bfef",
   "metadata": {},
   "outputs": [],
   "source": []
  },
  {
   "cell_type": "code",
   "execution_count": null,
   "id": "6ba66501",
   "metadata": {},
   "outputs": [],
   "source": [
    "#list indexing\n",
    "list2[0] = 5\n",
    "print(list2)\n",
    "list2[2] += 1\n",
    "print(list2)"
   ]
  },
  {
   "cell_type": "markdown",
   "id": "47890e30",
   "metadata": {},
   "source": [
    "#### Use list indexing to change the second element in myList to be 13, then print myList to verify your work"
   ]
  },
  {
   "cell_type": "code",
   "execution_count": null,
   "id": "132f4af3",
   "metadata": {},
   "outputs": [],
   "source": []
  },
  {
   "cell_type": "code",
   "execution_count": null,
   "id": "4b933f18",
   "metadata": {},
   "outputs": [],
   "source": [
    "#index slicing\n",
    "#[start:stop:step]\n",
    "# [ 0 :  n  : 1 ]\n",
    "slicedList = list2[2:]\n",
    "print(slicedList)"
   ]
  },
  {
   "cell_type": "markdown",
   "id": "34b06de0",
   "metadata": {},
   "source": [
    "#### Use list indexing to print out the last 5 element of your list"
   ]
  },
  {
   "cell_type": "code",
   "execution_count": null,
   "id": "85baad5b",
   "metadata": {},
   "outputs": [],
   "source": []
  },
  {
   "cell_type": "code",
   "execution_count": null,
   "id": "ef424dc3",
   "metadata": {},
   "outputs": [],
   "source": [
    "slicedList = list2[:3]\n",
    "print(slicedList)"
   ]
  },
  {
   "cell_type": "markdown",
   "id": "cf1698c8",
   "metadata": {},
   "source": [
    "#### Use list indexing to print out the 3rd through 8th element of your list"
   ]
  },
  {
   "cell_type": "code",
   "execution_count": null,
   "id": "221e8b3f",
   "metadata": {},
   "outputs": [],
   "source": []
  },
  {
   "cell_type": "code",
   "execution_count": null,
   "id": "8203a124",
   "metadata": {},
   "outputs": [],
   "source": [
    "slicedList = list2[1:4:2]\n",
    "print(slicedList)"
   ]
  },
  {
   "cell_type": "markdown",
   "id": "d293ef4b",
   "metadata": {},
   "source": [
    "#### Use list indexing to print every third element of the list, starting at the second element"
   ]
  },
  {
   "cell_type": "code",
   "execution_count": null,
   "id": "07d8c114",
   "metadata": {},
   "outputs": [],
   "source": []
  },
  {
   "cell_type": "code",
   "execution_count": null,
   "id": "69a0da9f",
   "metadata": {},
   "outputs": [],
   "source": [
    "#getting the length of a list\n",
    "length = len(list2)\n",
    "print(length)"
   ]
  },
  {
   "cell_type": "markdown",
   "id": "f5e65bb5",
   "metadata": {},
   "source": [
    "### Manipulating Lists"
   ]
  },
  {
   "cell_type": "markdown",
   "id": "f2fcbf9e",
   "metadata": {},
   "source": [
    "### Appending a value to the end of a list"
   ]
  },
  {
   "cell_type": "code",
   "execution_count": null,
   "id": "b7c46862",
   "metadata": {},
   "outputs": [],
   "source": [
    "list2.append(5.9)\n",
    "print(list2)"
   ]
  },
  {
   "cell_type": "markdown",
   "id": "22c13f70",
   "metadata": {},
   "source": [
    "#### Add a random number to myList using the append method"
   ]
  },
  {
   "cell_type": "code",
   "execution_count": null,
   "id": "a90a7b4d",
   "metadata": {},
   "outputs": [],
   "source": []
  },
  {
   "cell_type": "markdown",
   "id": "17d15b53",
   "metadata": {},
   "source": [
    "### pop() method"
   ]
  },
  {
   "cell_type": "code",
   "execution_count": null,
   "id": "fa27c59a",
   "metadata": {},
   "outputs": [],
   "source": [
    "newVar = list2.pop(2)\n",
    "print(list2)\n",
    "print(newVar)"
   ]
  },
  {
   "cell_type": "markdown",
   "id": "6ad2f3de",
   "metadata": {},
   "source": [
    "#### Remove the element you just added using pop"
   ]
  },
  {
   "cell_type": "code",
   "execution_count": null,
   "id": "3a7ab283",
   "metadata": {},
   "outputs": [],
   "source": []
  },
  {
   "cell_type": "markdown",
   "id": "785d6321",
   "metadata": {},
   "source": [
    "### Copying a string"
   ]
  },
  {
   "cell_type": "code",
   "execution_count": null,
   "id": "aaca6e3f",
   "metadata": {},
   "outputs": [],
   "source": [
    "#copying a string\n",
    "list3 = list2.copy()\n",
    "print(list3)"
   ]
  },
  {
   "cell_type": "code",
   "execution_count": null,
   "id": "56271b53",
   "metadata": {},
   "outputs": [],
   "source": [
    "#why you need to copy a list\n",
    "x = 5\n",
    "y = x\n",
    "print(y)\n",
    "x = 6\n",
    "print(y)"
   ]
  },
  {
   "cell_type": "code",
   "execution_count": null,
   "id": "1f953af0",
   "metadata": {},
   "outputs": [],
   "source": [
    "list4 = list3\n",
    "print(list4)\n",
    "list3.append(5)\n",
    "print(list4)"
   ]
  },
  {
   "cell_type": "code",
   "execution_count": null,
   "id": "f64b43b7",
   "metadata": {},
   "outputs": [],
   "source": [
    "#alternatively, you can null slice a list to force a copy\n",
    "list5 = list4[:]\n",
    "print(list5)\n",
    "list4.append(3)\n",
    "print(list4)\n",
    "print(list5)"
   ]
  },
  {
   "cell_type": "markdown",
   "id": "aac5dd24",
   "metadata": {},
   "source": [
    "#### Make a list called 'myListCopy' that is an exact copy of 'myList'. Change the third element of myList to equal 7 and then print out myListCopy to verify your work "
   ]
  },
  {
   "cell_type": "code",
   "execution_count": null,
   "id": "5e5b4cce",
   "metadata": {},
   "outputs": [],
   "source": []
  },
  {
   "cell_type": "markdown",
   "id": "e84c6bb8",
   "metadata": {},
   "source": [
    "### Extending a list (adding a list onto the end of another list)"
   ]
  },
  {
   "cell_type": "code",
   "execution_count": null,
   "id": "4b517b48",
   "metadata": {},
   "outputs": [],
   "source": [
    "#extend\n",
    "list2.extend(list3)\n",
    "print(list2)"
   ]
  },
  {
   "cell_type": "markdown",
   "id": "0fb6d2db",
   "metadata": {},
   "source": [
    "#### Add five 10's to the end of myList using the extend method, then print myList to verify your work"
   ]
  },
  {
   "cell_type": "code",
   "execution_count": null,
   "id": "f972a10f",
   "metadata": {},
   "outputs": [],
   "source": []
  },
  {
   "cell_type": "markdown",
   "id": "bcb72970",
   "metadata": {},
   "source": [
    "### Counting the occurence of a specified value in a list"
   ]
  },
  {
   "cell_type": "code",
   "execution_count": null,
   "id": "b08c8369",
   "metadata": {},
   "outputs": [],
   "source": [
    "print(list2.count(5.9))"
   ]
  },
  {
   "cell_type": "markdown",
   "id": "b5365cd0",
   "metadata": {},
   "source": [
    "#### Store the number of tens that occur in myList in a variable called 'numTens'. Print numTens to verify your work "
   ]
  },
  {
   "cell_type": "code",
   "execution_count": null,
   "id": "72b3adf9",
   "metadata": {},
   "outputs": [],
   "source": []
  },
  {
   "cell_type": "markdown",
   "id": "60944e95",
   "metadata": {},
   "source": [
    "### Remove the first element with a specified value"
   ]
  },
  {
   "cell_type": "code",
   "execution_count": null,
   "id": "1627dab8",
   "metadata": {
    "scrolled": true
   },
   "outputs": [],
   "source": [
    "list2.remove(\"Apple\")\n",
    "list2.remove(\"Apple\")\n",
    "print(list2)"
   ]
  },
  {
   "cell_type": "markdown",
   "id": "80d09dc1",
   "metadata": {},
   "source": [
    "#### Remove the first 10 from myList the print myList"
   ]
  },
  {
   "cell_type": "code",
   "execution_count": null,
   "id": "4e704154",
   "metadata": {},
   "outputs": [],
   "source": []
  },
  {
   "cell_type": "markdown",
   "id": "f82b3a28",
   "metadata": {},
   "source": [
    "### Sorting a List"
   ]
  },
  {
   "cell_type": "code",
   "execution_count": null,
   "id": "87210d44",
   "metadata": {},
   "outputs": [],
   "source": [
    "list1 = [\"Orange\", \"Banana\", \"Apple\", \"Apricot\", \"Peach\"]\n",
    "list1.sort()\n",
    "print(list1)\n",
    "list1.sort(reverse = True)\n",
    "print(list1)\n",
    "list2.sort(reverse = True)\n",
    "print(list2)"
   ]
  },
  {
   "cell_type": "markdown",
   "id": "bc7fbfa4",
   "metadata": {},
   "source": [
    "#### Sort myList in ascending order, then print myList. Sort myListCopy in descending order and print myListCopy"
   ]
  },
  {
   "cell_type": "code",
   "execution_count": null,
   "id": "83435178",
   "metadata": {},
   "outputs": [],
   "source": []
  },
  {
   "cell_type": "markdown",
   "id": "40b98041",
   "metadata": {},
   "source": [
    "### Find the index of the first occurence of a value"
   ]
  },
  {
   "cell_type": "code",
   "execution_count": null,
   "id": "d9a8947c",
   "metadata": {},
   "outputs": [],
   "source": [
    "print(list1.index(\"Apple\"))"
   ]
  },
  {
   "cell_type": "markdown",
   "id": "f78aeda9",
   "metadata": {},
   "source": [
    "#### Find the first occurence of the number 10 in myList"
   ]
  },
  {
   "cell_type": "code",
   "execution_count": null,
   "id": "ab40627c",
   "metadata": {},
   "outputs": [],
   "source": []
  },
  {
   "cell_type": "markdown",
   "id": "26cdda47",
   "metadata": {},
   "source": [
    "### Reversing a list"
   ]
  },
  {
   "cell_type": "code",
   "execution_count": null,
   "id": "6760752a",
   "metadata": {},
   "outputs": [],
   "source": [
    "print(list3)\n",
    "list3.reverse()\n",
    "print(list3)"
   ]
  },
  {
   "cell_type": "markdown",
   "id": "80b6e127",
   "metadata": {},
   "source": [
    "#### Print myList backwards using reverse"
   ]
  },
  {
   "cell_type": "code",
   "execution_count": null,
   "id": "c1ed84ef",
   "metadata": {},
   "outputs": [],
   "source": []
  },
  {
   "cell_type": "markdown",
   "id": "2ea661d0",
   "metadata": {},
   "source": [
    "### Clearing a list"
   ]
  },
  {
   "cell_type": "code",
   "execution_count": null,
   "id": "a1f58b49",
   "metadata": {},
   "outputs": [],
   "source": [
    "list2.clear()\n",
    "print(list2)"
   ]
  },
  {
   "cell_type": "markdown",
   "id": "a7bca339",
   "metadata": {},
   "source": [
    "#### Clear then print myListCopy"
   ]
  },
  {
   "cell_type": "code",
   "execution_count": null,
   "id": "8c8de8b2",
   "metadata": {},
   "outputs": [],
   "source": []
  },
  {
   "cell_type": "markdown",
   "id": "5d365551",
   "metadata": {},
   "source": [
    "## Tuples"
   ]
  },
  {
   "cell_type": "code",
   "execution_count": null,
   "id": "134ff529",
   "metadata": {},
   "outputs": [],
   "source": [
    "#Tuples are an immutable collection of data\n",
    "#This means you cannot change the tuple once it is defined\n",
    "tuple1 = (1, 3, 5, 7, 9)\n",
    "tuple2 = (2, 4, 6, 8, 2, 4, 6, 8)"
   ]
  },
  {
   "cell_type": "code",
   "execution_count": null,
   "id": "ece4f440",
   "metadata": {},
   "outputs": [],
   "source": [
    "#tuples can be indexed the same way lists can\n",
    "#note indexing is still square brackets\n",
    "print(tuple1[2])\n",
    "print(*tuple2[1:])\n",
    "print(*tuple1[:4])\n",
    "print(*tuple1[::2])"
   ]
  },
  {
   "cell_type": "code",
   "execution_count": null,
   "id": "aaa972e9",
   "metadata": {},
   "outputs": [],
   "source": [
    "#tuples only have two methods:\n",
    "#count()\n",
    "print(tuple1.count(9))\n",
    "#and index()\n",
    "print(tuple2.index(4))"
   ]
  },
  {
   "cell_type": "markdown",
   "id": "980dff40",
   "metadata": {},
   "source": [
    "#### Store the number of 8's in tuple2 in a vaiable called num8s, then print num8s"
   ]
  },
  {
   "cell_type": "code",
   "execution_count": null,
   "id": "e7744cb6",
   "metadata": {},
   "outputs": [],
   "source": []
  },
  {
   "cell_type": "markdown",
   "id": "09ee1e76",
   "metadata": {},
   "source": [
    "#### Store the index of the first occurence on the number 8 in tuple2 into a varibale called ind8, then print ind8."
   ]
  },
  {
   "cell_type": "code",
   "execution_count": null,
   "id": "1b8f1185",
   "metadata": {},
   "outputs": [],
   "source": []
  },
  {
   "cell_type": "code",
   "execution_count": null,
   "id": "4cccca35",
   "metadata": {
    "scrolled": true
   },
   "outputs": [],
   "source": [
    "#if you need to change something in a tuple, you can cast it to a list\n",
    "listFromTuple = list(tuple2)\n",
    "print(listFromTuple)\n",
    "#or, if you don't need the original data\n",
    "tuple2 = list(tuple2)\n",
    "print(tuple2)"
   ]
  },
  {
   "cell_type": "markdown",
   "id": "66fd7fc9",
   "metadata": {},
   "source": [
    "### Example"
   ]
  },
  {
   "cell_type": "code",
   "execution_count": null,
   "id": "ab33ff96",
   "metadata": {},
   "outputs": [],
   "source": [
    "#program that prints odd elements on one line and even elements on another\n",
    "numbers = (1, 2, 3, 4, 5, 6, 7, 8, 9, 10)\n",
    "print(numbers[::2])\n",
    "print(numbers[1::2])"
   ]
  },
  {
   "cell_type": "markdown",
   "id": "20d8574e",
   "metadata": {},
   "source": [
    "## Exercises"
   ]
  },
  {
   "cell_type": "markdown",
   "id": "f94202ed",
   "metadata": {},
   "source": [
    "#### Given the list below, store the odd numbers in a list called oddNums and the even numbers in a list called evenNums"
   ]
  },
  {
   "cell_type": "code",
   "execution_count": null,
   "id": "38287ece",
   "metadata": {},
   "outputs": [],
   "source": [
    "numbers = [1, 2, 3, 4, 5, 6, 7, 8, 9, 10, 11, 12, 13, 14, 15, 16, 17, 18, 19, 20]\n"
   ]
  },
  {
   "cell_type": "markdown",
   "id": "bc6ea1b3",
   "metadata": {},
   "source": [
    "#### Print the multiples of 3 stored in the list called numbers"
   ]
  },
  {
   "cell_type": "code",
   "execution_count": null,
   "id": "c57cf38b",
   "metadata": {},
   "outputs": [],
   "source": []
  },
  {
   "cell_type": "markdown",
   "id": "90479d67",
   "metadata": {},
   "source": [
    "#### Remove the last element of oddNums and evenNums. Write your code as if you do not know the length of the lists, or what the last element of each list is."
   ]
  },
  {
   "cell_type": "code",
   "execution_count": null,
   "id": "efd596b3",
   "metadata": {},
   "outputs": [],
   "source": []
  },
  {
   "cell_type": "markdown",
   "id": "30816953",
   "metadata": {},
   "source": [
    "#### Print the following list lexiographically (reverse alphabetic order)"
   ]
  },
  {
   "cell_type": "code",
   "execution_count": null,
   "id": "3b43ffe9",
   "metadata": {},
   "outputs": [],
   "source": [
    "countries = ['United Kingdom', 'France', 'Spain', 'Portugal', 'Italy', 'Germany', 'Poland', \n",
    "             'The Netherlands', 'Belgium', 'Denmark', 'Sweden', 'Norway', 'Finland']"
   ]
  }
 ],
 "metadata": {
  "kernelspec": {
   "display_name": "Python 3",
   "language": "python",
   "name": "python3"
  },
  "language_info": {
   "codemirror_mode": {
    "name": "ipython",
    "version": 3
   },
   "file_extension": ".py",
   "mimetype": "text/x-python",
   "name": "python",
   "nbconvert_exporter": "python",
   "pygments_lexer": "ipython3",
   "version": "3.8.5"
  }
 },
 "nbformat": 4,
 "nbformat_minor": 5
}
