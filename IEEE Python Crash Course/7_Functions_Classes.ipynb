{
 "cells": [
  {
   "cell_type": "code",
   "execution_count": 1,
   "id": "8ac48448",
   "metadata": {},
   "outputs": [
    {
     "name": "stdout",
     "output_type": "stream",
     "text": [
      "Hello World!\n"
     ]
    }
   ],
   "source": [
    "#Functions are simply a block of code that execute when called\n",
    "#Functions can take input, return output, do both, or do none\n",
    "#Functions are particularyly useful for repetitive code, or to make your main program look nice\n",
    "#You can make a function using def\n",
    "\n",
    "#This is an example of a function that takes no input and returns no output \n",
    "def helloWorld():\n",
    "    print(\"Hello World!\")\n",
    "    \n",
    "helloWorld()"
   ]
  },
  {
   "cell_type": "code",
   "execution_count": 2,
   "id": "94704666",
   "metadata": {},
   "outputs": [
    {
     "name": "stdout",
     "output_type": "stream",
     "text": [
      "Hello World!\n",
      "Hello World!\n",
      "Hello World!\n",
      "Hello World!\n",
      "Hello World!\n"
     ]
    }
   ],
   "source": [
    "#When a function takes input, they are called arguments\n",
    "#You can define arguments when you define a function by putting them in the brackets\n",
    "def helloWorldX(num):\n",
    "    for i in range(num):\n",
    "        print(\"Hello World!\")\n",
    "            \n",
    "helloWorldX(5)"
   ]
  },
  {
   "cell_type": "code",
   "execution_count": 3,
   "id": "c72ab8ff",
   "metadata": {},
   "outputs": [
    {
     "name": "stdout",
     "output_type": "stream",
     "text": [
      "50\n"
     ]
    }
   ],
   "source": [
    "#To get a return value from a function, you simply call return\n",
    "def multiplyByFive(num):\n",
    "    return num*5\n",
    "\n",
    "#To store the value, set a variable equal to the function\n",
    "result1 = multiplyByFive(10)\n",
    "print(result1)"
   ]
  },
  {
   "cell_type": "code",
   "execution_count": 5,
   "id": "15bf9fe2",
   "metadata": {},
   "outputs": [
    {
     "name": "stdout",
     "output_type": "stream",
     "text": [
      "Maximum is:  20\n",
      "Highest common multiple is:  5\n"
     ]
    }
   ],
   "source": [
    "#You can give a function multiple arguments, and it can return multiple results\n",
    "def max_hcm(num1, num2):\n",
    "    if num1 > num2:\n",
    "        localMax = num1\n",
    "    else:\n",
    "        localMax = num2\n",
    "    \n",
    "    for i in range(localMax, 0, -1):\n",
    "        if num1 % i == 0 and num2 % i == 0:\n",
    "            hcm = i\n",
    "            break\n",
    "    return localMax, hcm\n",
    "\n",
    "#To retrieve multiple values from a function, separate varibles by a comma and set them equal to the function\n",
    "val1, val2 = max_hcm(15, 20)\n",
    "print(\"Maximum is: \", val1)\n",
    "print(\"Highest common multiple is: \", val2)"
   ]
  },
  {
   "cell_type": "code",
   "execution_count": 16,
   "id": "11928301",
   "metadata": {},
   "outputs": [
    {
     "name": "stdout",
     "output_type": "stream",
     "text": [
      "5\n"
     ]
    }
   ],
   "source": [
    "#Gotchas with functions and lists\n",
    "#Passing an int to a function will not change the variable outside the function\n",
    "x = 5\n",
    "\n",
    "def changeX(num):\n",
    "    num = num*10\n",
    "\n",
    "changeX(x)\n",
    "print(x)"
   ]
  },
  {
   "cell_type": "code",
   "execution_count": 12,
   "id": "8452df05",
   "metadata": {},
   "outputs": [
    {
     "name": "stdout",
     "output_type": "stream",
     "text": [
      "2 4 3 7 6 8 1 9 15\n",
      "20 40 30 70 60 80 10 90 150\n",
      "20 40 30 70 60 80 10 90 150\n"
     ]
    }
   ],
   "source": [
    "#Passing a list to a function is just passing a memory address to a function\n",
    "#This means the values WILL change outside the function\n",
    "#This also means that, if you want to modify a list with a function, you don't need a return value\n",
    "#This works for all mutable data types\n",
    "list1 = [2,4,3,7,6,8,1,9,15]\n",
    "print(*list1)\n",
    "\n",
    "def changeList(myList):\n",
    "    for i in range(len(myList)):\n",
    "        myList[i] *= 10\n",
    "\n",
    "changeList(list1)\n",
    "print(*list1)\n",
    "\n",
    "#If you don't want to modify the values outside the function, simply pass a copy of the list to the function\n",
    "changeList(list1[:])\n",
    "print(*list1)"
   ]
  },
  {
   "cell_type": "markdown",
   "id": "165ab7f8",
   "metadata": {},
   "source": [
    "### Write a function that takes a single integer n as input and returns all of the prime numbers between 0 and n. Call the function and print the list"
   ]
  },
  {
   "cell_type": "code",
   "execution_count": null,
   "id": "bc6d7492",
   "metadata": {},
   "outputs": [],
   "source": []
  },
  {
   "cell_type": "markdown",
   "id": "d666fddb",
   "metadata": {},
   "source": [
    "# Classes"
   ]
  },
  {
   "cell_type": "code",
   "execution_count": 56,
   "id": "830d8aff",
   "metadata": {},
   "outputs": [],
   "source": [
    "#Everything in python is an object, which is an instance of a class\n",
    "#Classes are a collection of data and functions\n",
    "#Use class to define a new class, then you need to make an init function\n",
    "#Init will happen every time you make a class\n",
    "class student:\n",
    "    def __init__(self, name, degree, sNumber):\n",
    "        self.name = name #Public\n",
    "        self._degree = degree #Protected\n",
    "        self.__id = sNumber #Private\n",
    "    def printDetails(self):\n",
    "        print(self.name, self._degree, self.__id, sep = '\\n')\n",
    "    def changeID(self, newID):\n",
    "        self.__id = newID\n",
    "    def addAge(self, age):\n",
    "        self._age = age\n",
    "\n",
    "#student is now its own variable type\n",
    "#You can make an instance of student by storing it in a variable\n",
    "s1 = student('Bob', 'Engineering', 's1234567')"
   ]
  },
  {
   "cell_type": "code",
   "execution_count": 57,
   "id": "7cc20ea1",
   "metadata": {},
   "outputs": [
    {
     "name": "stdout",
     "output_type": "stream",
     "text": [
      "Bob\n",
      "Engineering\n",
      "s1234567\n"
     ]
    }
   ],
   "source": [
    "#Accessing methods of your own class is the same as any other class\n",
    "s1.printDetails()"
   ]
  },
  {
   "cell_type": "code",
   "execution_count": 58,
   "id": "9d424549",
   "metadata": {},
   "outputs": [
    {
     "name": "stdout",
     "output_type": "stream",
     "text": [
      "Steve\n"
     ]
    }
   ],
   "source": [
    "#You can treat public and protected variables as normal variables\n",
    "#That means you can access and change them from outside the class\n",
    "s1.name = 'Steve'\n",
    "print(s1.name)"
   ]
  },
  {
   "cell_type": "code",
   "execution_count": 59,
   "id": "716d1031",
   "metadata": {},
   "outputs": [
    {
     "name": "stdout",
     "output_type": "stream",
     "text": [
      "Steve\n",
      "Computer Science\n",
      "s1234567\n"
     ]
    }
   ],
   "source": [
    "#Protected variables are more of a guide for the programmer\n",
    "#If you want to be able to explicitly change protected variables like this, you should make it public\n",
    "#You should only access the value of a protected varible from outside the class\n",
    "#(i.e. print it or store it in another variable)\n",
    "s1._degree = 'Computer Science'\n",
    "s1.printDetails()"
   ]
  },
  {
   "cell_type": "code",
   "execution_count": 60,
   "id": "09d42ce2",
   "metadata": {},
   "outputs": [
    {
     "name": "stdout",
     "output_type": "stream",
     "text": [
      "Steve\n",
      "Computer Science\n",
      "s2341567\n"
     ]
    }
   ],
   "source": [
    "#Private variables cannot be accessed from outside the class\n",
    "#To access a private variable, you need to use a method within the class\n",
    "s1.changeID('s2341567')\n",
    "s1.printDetails()"
   ]
  },
  {
   "cell_type": "code",
   "execution_count": 62,
   "id": "7df953a6",
   "metadata": {},
   "outputs": [
    {
     "name": "stdout",
     "output_type": "stream",
     "text": [
      "20\n"
     ]
    }
   ],
   "source": [
    "#Not everything has to be defined in __init__\n",
    "#Optional variable can be added later using methods\n",
    "s1.addAge(20)\n",
    "print(s1._age)"
   ]
  },
  {
   "cell_type": "code",
   "execution_count": null,
   "id": "e2a311f3",
   "metadata": {},
   "outputs": [],
   "source": []
  }
 ],
 "metadata": {
  "kernelspec": {
   "display_name": "Python 3",
   "language": "python",
   "name": "python3"
  },
  "language_info": {
   "codemirror_mode": {
    "name": "ipython",
    "version": 3
   },
   "file_extension": ".py",
   "mimetype": "text/x-python",
   "name": "python",
   "nbconvert_exporter": "python",
   "pygments_lexer": "ipython3",
   "version": "3.8.5"
  }
 },
 "nbformat": 4,
 "nbformat_minor": 5
}
