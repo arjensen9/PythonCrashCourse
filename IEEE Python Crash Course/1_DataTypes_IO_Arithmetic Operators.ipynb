{
 "cells": [
  {
   "cell_type": "markdown",
   "id": "d7e9be8f",
   "metadata": {},
   "source": [
    "# Data Types, Operators, Print & Input"
   ]
  },
  {
   "cell_type": "markdown",
   "id": "83b2e216",
   "metadata": {},
   "source": [
    "## Comments"
   ]
  },
  {
   "cell_type": "raw",
   "id": "ffb20d3e",
   "metadata": {},
   "source": [
    "# <- for single line comments\n",
    "\n",
    "\"\"\" <-\n",
    "for\n",
    "multi-line\n",
    "comments\n",
    "-> \"\"\""
   ]
  },
  {
   "cell_type": "markdown",
   "id": "95302d3f",
   "metadata": {},
   "source": [
    "## Variables & Data Types"
   ]
  },
  {
   "cell_type": "code",
   "execution_count": 1,
   "id": "c8000ffd",
   "metadata": {},
   "outputs": [
    {
     "name": "stdout",
     "output_type": "stream",
     "text": [
      "<class 'int'>\n",
      "<class 'int'>\n",
      "<class 'float'>\n",
      "<class 'float'>\n",
      "<class 'str'>\n",
      "<class 'str'>\n"
     ]
    }
   ],
   "source": [
    "#integers\n",
    "x = 4\n",
    "y = 6\n",
    "\n",
    "#floats\n",
    "a = 4.5\n",
    "b = 3.7\n",
    "\n",
    "#strings\n",
    "letterA = \"A\"\n",
    "wordApple = 'Apple'\n",
    "\n",
    "#Quick function explanation\n",
    "print(type(x))\n",
    "print(type(y))\n",
    "print(type(a))\n",
    "print(type(b))\n",
    "print(type(letterA))\n",
    "print(type(wordApple))"
   ]
  },
  {
   "cell_type": "markdown",
   "id": "7f2f6b20",
   "metadata": {},
   "source": [
    "## Operators"
   ]
  },
  {
   "cell_type": "markdown",
   "id": "386b1869",
   "metadata": {},
   "source": [
    "### Addition/ Subtraction"
   ]
  },
  {
   "cell_type": "code",
   "execution_count": 11,
   "id": "9486ef6c",
   "metadata": {},
   "outputs": [
    {
     "name": "stdout",
     "output_type": "stream",
     "text": [
      "10\n",
      "0.7999999999999998\n",
      "0.8\n",
      "8.5\n"
     ]
    }
   ],
   "source": [
    "sumInt = x + y\n",
    "sumFloat = a - b\n",
    "sumMixed = x + a\n",
    "\n",
    "print(sumInt)\n",
    "print(sumFloat)\n",
    "print(\"{:.1f}\".format(sumFloat))\n",
    "print(sumMixed)"
   ]
  },
  {
   "cell_type": "markdown",
   "id": "53b02209",
   "metadata": {},
   "source": [
    "### Products"
   ]
  },
  {
   "cell_type": "code",
   "execution_count": 4,
   "id": "061273af",
   "metadata": {},
   "outputs": [
    {
     "name": "stdout",
     "output_type": "stream",
     "text": [
      "24\n",
      "16.650000000000002\n",
      "16.65\n",
      "18.0\n",
      "\n"
     ]
    }
   ],
   "source": [
    "productInt = x * y\n",
    "productFloat = a * b\n",
    "productMixed = x * a\n",
    "\n",
    "print(productInt)\n",
    "print(productFloat)\n",
    "print(\"{:.2f}\".format(productFloat))\n",
    "print(productMixed)\n",
    "print()"
   ]
  },
  {
   "cell_type": "markdown",
   "id": "588ef25d",
   "metadata": {},
   "source": [
    "### Quotients"
   ]
  },
  {
   "cell_type": "code",
   "execution_count": 5,
   "id": "c0af8679",
   "metadata": {},
   "outputs": [
    {
     "name": "stdout",
     "output_type": "stream",
     "text": [
      "2.0\n",
      "1.2162162162162162\n",
      "0.8888888888888888\n"
     ]
    }
   ],
   "source": [
    "quotientInt = y / 3\n",
    "quotientFloat = a / b\n",
    "quotientMixed = x / a\n",
    "\n",
    "print(quotientInt)\n",
    "print(quotientFloat)\n",
    "print(quotientMixed)"
   ]
  },
  {
   "cell_type": "markdown",
   "id": "5c8f8bad",
   "metadata": {},
   "source": [
    "### Modulus (Remainder)"
   ]
  },
  {
   "cell_type": "code",
   "execution_count": 6,
   "id": "0d1db2ec",
   "metadata": {},
   "outputs": [
    {
     "name": "stdout",
     "output_type": "stream",
     "text": [
      "2\n",
      "0\n",
      "1\n",
      "0.30000000000000016\n"
     ]
    }
   ],
   "source": [
    "modInt = y % x\n",
    "modX2 = x % 2\n",
    "mod5_2 = 5 % 2\n",
    "floatMod = a % 0.6\n",
    "\n",
    "print(modInt)\n",
    "print(modX2)\n",
    "print(mod5_2)\n",
    "print(floatMod)"
   ]
  },
  {
   "cell_type": "markdown",
   "id": "0670b8fa",
   "metadata": {},
   "source": [
    "## Printing To & Reading From Console"
   ]
  },
  {
   "cell_type": "code",
   "execution_count": 7,
   "id": "90fe2542",
   "metadata": {},
   "outputs": [
    {
     "name": "stdout",
     "output_type": "stream",
     "text": [
      "Enter your name: Richard\n",
      "Hello Richard nice to meet you!\n"
     ]
    }
   ],
   "source": [
    "#input function \n",
    "name = input(\"Enter your name: \")\n",
    "\n",
    "#print function, .format placeholders\n",
    "print(\"Hello\", name, \"nice to meet you!\")"
   ]
  },
  {
   "cell_type": "code",
   "execution_count": 9,
   "id": "5baa8cbc",
   "metadata": {},
   "outputs": [
    {
     "name": "stdout",
     "output_type": "stream",
     "text": [
      "Enter your age: 29\n",
      "29!? You look 24 to me!\n"
     ]
    }
   ],
   "source": [
    "#casting\n",
    "age = int(input(\"Enter your age: \"))\n",
    "age = '29'\n",
    "age = int(age)\n",
    "#place holders\n",
    "print(\"{}!? You look {} to me!\".format(age, age - 5))"
   ]
  },
  {
   "cell_type": "markdown",
   "id": "73387cdb",
   "metadata": {},
   "source": [
    "## Practice Problem"
   ]
  },
  {
   "cell_type": "markdown",
   "id": "ef0e2953",
   "metadata": {},
   "source": [
    "#### Write a program asks the user for two resistor values.\n",
    "#### The program should then calculate the equivalent series and parralel resistances, then display both results on the screen.\n",
    "#### Series resistors:   r1 + r2 = req\n",
    "#### Parallel resistors: (r1 * r2) / (r1 + r2) = req"
   ]
  },
  {
   "cell_type": "code",
   "execution_count": null,
   "id": "51b19869",
   "metadata": {},
   "outputs": [],
   "source": []
  }
 ],
 "metadata": {
  "kernelspec": {
   "display_name": "Python 3",
   "language": "python",
   "name": "python3"
  },
  "language_info": {
   "codemirror_mode": {
    "name": "ipython",
    "version": 3
   },
   "file_extension": ".py",
   "mimetype": "text/x-python",
   "name": "python",
   "nbconvert_exporter": "python",
   "pygments_lexer": "ipython3",
   "version": "3.8.5"
  }
 },
 "nbformat": 4,
 "nbformat_minor": 5
}
